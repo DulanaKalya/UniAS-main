{
 "cells": [
  {
   "cell_type": "code",
   "execution_count": null,
   "id": "e62e6385",
   "metadata": {
    "vscode": {
     "languageId": "plaintext"
    }
   },
   "outputs": [],
   "source": [
    "from manim import *\n",
    "class CNN(Scene):\n",
    "    def construct(self):\n",
    "        text = Text(\"Convolution → ReLU → Pooling → FC Layer\")\n",
    "        self.play(Write(text))\n",
    "        self.wait(2)\n"
   ]
  }
 ],
 "metadata": {
  "language_info": {
   "name": "python"
  }
 },
 "nbformat": 4,
 "nbformat_minor": 5
}
